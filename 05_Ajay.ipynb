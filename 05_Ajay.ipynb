{
 "cells": [
  {
   "cell_type": "code",
   "execution_count": 2,
   "id": "8279bb06",
   "metadata": {},
   "outputs": [
    {
     "name": "stdout",
     "output_type": "stream",
     "text": [
      "GLA MATHURA\n",
      "GLA MATHURA\n"
     ]
    }
   ],
   "source": [
    "#Solution No.1\n",
    "print('GLA MATHURA')\n",
    "print('GLA MATHURA')"
   ]
  },
  {
   "cell_type": "code",
   "execution_count": 2,
   "id": "bace791e",
   "metadata": {},
   "outputs": [
    {
     "name": "stdout",
     "output_type": "stream",
     "text": [
      "20\n",
      "0.25\n"
     ]
    }
   ],
   "source": [
    "# SOLUTION No.2\n",
    "# Get the amount in Indian Rupees as input\n",
    "rupees = float(input())\n",
    "\n",
    "# Calculate the equivalent amount in Euros\n",
    "euros = rupees / 80\n",
    "\n",
    "# Display the equivalent amount in Euros\n",
    "print(euros)\n"
   ]
  },
  {
   "cell_type": "code",
   "execution_count": 3,
   "id": "f1597a24",
   "metadata": {},
   "outputs": [
    {
     "name": "stdout",
     "output_type": "stream",
     "text": [
      "30\n",
      "20\n",
      "Loss\n"
     ]
    }
   ],
   "source": [
    "# SOLUTION No.3\n",
    "# Geting the cost price and selling price as input\n",
    "cost_price = float(input())\n",
    "selling_price = float(input())\n",
    "\n",
    "# printing the profit or loss\n",
    "if selling_price > cost_price:\n",
    "    print(\"Profit\")\n",
    "elif selling_price < cost_price:\n",
    "    print(\"Loss\")\n",
    "else:\n",
    "    print(\"Neither\")\n"
   ]
  },
  {
   "cell_type": "code",
   "execution_count": 4,
   "id": "4ff7aa42",
   "metadata": {},
   "outputs": [
    {
     "name": "stdout",
     "output_type": "stream",
     "text": [
      "34.6\n"
     ]
    }
   ],
   "source": [
    "# Solution No.4\n",
    "# marks of subjects 24 21 35 41 52\n",
    "s1=24\n",
    "s2=21\n",
    "s3=35\n",
    "s4=41\n",
    "s5=52\n",
    "\n",
    "total_marks=s1+s2+s3+s4+s5\n",
    "\n",
    "avg_marks=total_marks/5\n",
    "\n",
    "print(avg_marks)"
   ]
  },
  {
   "cell_type": "code",
   "execution_count": 6,
   "id": "85e3cd8b",
   "metadata": {},
   "outputs": [
    {
     "name": "stdout",
     "output_type": "stream",
     "text": [
      "24\n",
      "1\n"
     ]
    }
   ],
   "source": [
    "#Solution No.5\n",
    "# Create a list of numbers from 1 to 50\n",
    "list_1 = list(range(1, 51))\n",
    "\n",
    "# Get the input value 'a'\n",
    "a = int(input())\n",
    "\n",
    "# Count the elements in list_1 that are divisible by 'a' (excluding 'a' itself)\n",
    "count = sum(1 for num in list_1 if num % a == 0 and num != a)\n",
    "\n",
    "print(count)"
   ]
  },
  {
   "cell_type": "code",
   "execution_count": 5,
   "id": "90361bb4",
   "metadata": {},
   "outputs": [
    {
     "name": "stdout",
     "output_type": "stream",
     "text": [
      "20\n",
      "10\n"
     ]
    }
   ],
   "source": [
    "# Swapping value\n",
    "a=10\n",
    "b=20\n",
    "c=0\n",
    "c=a\n",
    "a=b\n",
    "b=c\n",
    "print(a)\n",
    "print(b)"
   ]
  },
  {
   "cell_type": "code",
   "execution_count": null,
   "id": "e1be1a22",
   "metadata": {},
   "outputs": [],
   "source": []
  },
  {
   "cell_type": "code",
   "execution_count": null,
   "id": "0414949e",
   "metadata": {},
   "outputs": [],
   "source": []
  },
  {
   "cell_type": "code",
   "execution_count": null,
   "id": "582c3795",
   "metadata": {},
   "outputs": [],
   "source": []
  },
  {
   "cell_type": "code",
   "execution_count": null,
   "id": "4251f2a8",
   "metadata": {},
   "outputs": [],
   "source": []
  },
  {
   "cell_type": "code",
   "execution_count": null,
   "id": "4cdc9d9c",
   "metadata": {},
   "outputs": [],
   "source": []
  },
  {
   "cell_type": "code",
   "execution_count": null,
   "id": "1936925c",
   "metadata": {},
   "outputs": [],
   "source": []
  },
  {
   "cell_type": "code",
   "execution_count": null,
   "id": "ed3001cd",
   "metadata": {},
   "outputs": [],
   "source": []
  },
  {
   "cell_type": "code",
   "execution_count": null,
   "id": "2f915397",
   "metadata": {},
   "outputs": [],
   "source": []
  },
  {
   "cell_type": "code",
   "execution_count": null,
   "id": "78f77e38",
   "metadata": {},
   "outputs": [],
   "source": []
  },
  {
   "cell_type": "code",
   "execution_count": null,
   "id": "0e6a60ae",
   "metadata": {},
   "outputs": [],
   "source": []
  },
  {
   "cell_type": "code",
   "execution_count": null,
   "id": "8d2f9d1b",
   "metadata": {},
   "outputs": [],
   "source": []
  },
  {
   "cell_type": "code",
   "execution_count": null,
   "id": "54a8efb2",
   "metadata": {},
   "outputs": [],
   "source": []
  },
  {
   "cell_type": "code",
   "execution_count": null,
   "id": "6486b72f",
   "metadata": {},
   "outputs": [],
   "source": []
  },
  {
   "cell_type": "code",
   "execution_count": null,
   "id": "fb855c83",
   "metadata": {},
   "outputs": [],
   "source": []
  },
  {
   "cell_type": "code",
   "execution_count": null,
   "id": "9f0bdd79",
   "metadata": {},
   "outputs": [],
   "source": []
  },
  {
   "cell_type": "code",
   "execution_count": null,
   "id": "4ecf51bf",
   "metadata": {},
   "outputs": [],
   "source": []
  },
  {
   "cell_type": "code",
   "execution_count": null,
   "id": "ad1f7228",
   "metadata": {},
   "outputs": [],
   "source": []
  },
  {
   "cell_type": "code",
   "execution_count": null,
   "id": "5d78166f",
   "metadata": {},
   "outputs": [],
   "source": []
  },
  {
   "cell_type": "code",
   "execution_count": null,
   "id": "b7565571",
   "metadata": {},
   "outputs": [],
   "source": []
  }
 ],
 "metadata": {
  "kernelspec": {
   "display_name": "Python 3 (ipykernel)",
   "language": "python",
   "name": "python3"
  },
  "language_info": {
   "codemirror_mode": {
    "name": "ipython",
    "version": 3
   },
   "file_extension": ".py",
   "mimetype": "text/x-python",
   "name": "python",
   "nbconvert_exporter": "python",
   "pygments_lexer": "ipython3",
   "version": "3.11.4"
  }
 },
 "nbformat": 4,
 "nbformat_minor": 5
}
