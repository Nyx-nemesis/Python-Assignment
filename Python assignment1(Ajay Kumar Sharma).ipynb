{
 "cells": [
  {
   "cell_type": "code",
   "execution_count": 1,
   "id": "4c9a457d",
   "metadata": {},
   "outputs": [
    {
     "name": "stdout",
     "output_type": "stream",
     "text": [
      "[35, 50, 20, 30, 55, 75, 90, 95, 66, 80]\n"
     ]
    }
   ],
   "source": [
    "# Question no.1\n",
    "scores=[35,50,20,30,55,75,90,95,66,80]\n",
    "#(i)Write a python code to read all the elements in a list scores, \n",
    "\n",
    "print(scores)"
   ]
  },
  {
   "cell_type": "code",
   "execution_count": 3,
   "id": "225ac1bb",
   "metadata": {},
   "outputs": [
    {
     "name": "stdout",
     "output_type": "stream",
     "text": [
      "just pass\n",
      "second class\n",
      "fail\n",
      "just pass\n",
      "second class\n",
      "distinction\n",
      "distinction\n",
      "distinction\n",
      "first class\n",
      "distinction\n"
     ]
    }
   ],
   "source": [
    "#(ii),(iii),(iv),(v),(vi)\n",
    "scores=[35,50,20,30,55,75,90,95,66,80]\n",
    "for score in scores:\n",
    "    if score>70:\n",
    "        print(\"distinction\")\n",
    "    elif 60<=score<=70:\n",
    "        print(\"first class\")\n",
    "    elif 50<=score<=60:\n",
    "        print(\"second class\")\n",
    "    elif 30<=score<=50:\n",
    "        print(\"just pass\")\n",
    "    else:\n",
    "        print(\"fail\")"
   ]
  },
  {
   "cell_type": "code",
   "execution_count": 4,
   "id": "4f9fb0d5",
   "metadata": {},
   "outputs": [
    {
     "name": "stdout",
     "output_type": "stream",
     "text": [
      "Book: Python, Price: 600\n",
      "Book: Web_Tech, Price: 550\n",
      "Book: IT, Price: 700\n"
     ]
    }
   ],
   "source": [
    "#Question No.2 \n",
    "Book_price = {'Python': 600, 'Java': 400, 'Web_Tech': 550, 'OS': 450, 'IT': 700}\n",
    "\n",
    "for book, price in Book_price.items():\n",
    "    if price > 500:\n",
    "        print(f\"Book: {book}, Price: {price}\")\n"
   ]
  },
  {
   "cell_type": "code",
   "execution_count": 5,
   "id": "4b6249d7",
   "metadata": {},
   "outputs": [
    {
     "name": "stdout",
     "output_type": "stream",
     "text": [
      "[1, 4, 9, 16, 25, 36, 49]\n"
     ]
    }
   ],
   "source": [
    "# Question No.3\n",
    "aList = [1, 2, 3, 4, 5, 6, 7]\n",
    "\n",
    "squaredList = [x ** 2 for x in aList]\n",
    "\n",
    "print(squaredList)\n"
   ]
  },
  {
   "cell_type": "code",
   "execution_count": 6,
   "id": "a5de0b4b",
   "metadata": {},
   "outputs": [
    {
     "name": "stdout",
     "output_type": "stream",
     "text": [
      "Hello Dear\n",
      "Hello Sir\n",
      "Take Dear\n",
      "Take Sir\n"
     ]
    }
   ],
   "source": [
    "#Question No.4\n",
    "list1 = [\"Hello \", \"Take \"]\n",
    "list2 = [\"Dear\", \"Sir\"]\n",
    "\n",
    "for word1 in list1:\n",
    "    for word2 in list2:\n",
    "        print(word1 + word2)\n"
   ]
  },
  {
   "cell_type": "code",
   "execution_count": 7,
   "id": "3b42e3b4",
   "metadata": {},
   "outputs": [
    {
     "name": "stdout",
     "output_type": "stream",
     "text": [
      "[500, 400, 300, 200, 100]\n"
     ]
    }
   ],
   "source": [
    "#Question No.5\n",
    "aList = [100, 200, 300, 400, 500]\n",
    "\n",
    "reversedList = aList[::-1]\n",
    "\n",
    "print(reversedList)\n"
   ]
  },
  {
   "cell_type": "code",
   "execution_count": 8,
   "id": "3eedc36f",
   "metadata": {},
   "outputs": [
    {
     "name": "stdout",
     "output_type": "stream",
     "text": [
      "[10, 20, [300, 400, [5000, 6000, 7000], 500], 30, 40]\n"
     ]
    }
   ],
   "source": [
    "#Question No.6\n",
    "list1 = [10, 20, [300, 400, [5000, 6000], 500], 30, 40]\n",
    "\n",
    "sublist = list1[2][2]\n",
    "\n",
    "sublist.append(7000)\n",
    "\n",
    "print(list1)"
   ]
  },
  {
   "cell_type": "code",
   "execution_count": 10,
   "id": "94dab696",
   "metadata": {},
   "outputs": [
    {
     "name": "stdout",
     "output_type": "stream",
     "text": [
      "['a', 'b', ['c', ['d', 'e', ['f', 'g', 'h', 'i', 'j'], 'k'], 'l'], 'm', 'n']\n"
     ]
    }
   ],
   "source": [
    "#Question No.7\n",
    "list1 = [\"a\", \"b\", [\"c\", [\"d\", \"e\", [\"f\", \"g\"], \"k\"], \"l\"], \"m\", \"n\"]\n",
    "sublist_to_add = [\"h\", \"i\", \"j\"]\n",
    "\n",
    "# Access the nested sublist where you want to add the sub-list\n",
    "nested_sublist = list1[2][1][2]\n",
    "\n",
    "# Extend the nested sublist with the sub-list to be added\n",
    "nested_sublist.extend(sublist_to_add)\n",
    "\n",
    "print(list1)"
   ]
  },
  {
   "cell_type": "code",
   "execution_count": 12,
   "id": "17cd0a5a",
   "metadata": {},
   "outputs": [
    {
     "name": "stdout",
     "output_type": "stream",
     "text": [
      "[5, 10, 15, 200, 25, 50, 20]\n"
     ]
    }
   ],
   "source": [
    "#Question No.8\n",
    "list1 = [5, 10, 15, 20, 25, 50, 20]\n",
    "\n",
    "# Find the index of the first occurrence of 20\n",
    "index = list1.index(20)\n",
    "\n",
    "# Replace the value at that index with 200\n",
    "list1[index] = 200\n",
    "\n",
    "print(list1)\n"
   ]
  },
  {
   "cell_type": "code",
   "execution_count": 13,
   "id": "0f5d26af",
   "metadata": {},
   "outputs": [
    {
     "name": "stdout",
     "output_type": "stream",
     "text": [
      "Sachin\n",
      "Rahul\n"
     ]
    }
   ],
   "source": [
    "#Question No.9\n",
    "Player_game = {'Sachin': 'Cricket', 'Rahul': 'Cricket', 'Messi': 'Football', 'Federer': 'Tennis', 'Anand': 'Chess'}\n",
    "\n",
    "for player, game in Player_game.items():\n",
    "    if game == 'Cricket':\n",
    "        print(player)"
   ]
  },
  {
   "cell_type": "code",
   "execution_count": 15,
   "id": "3b0ca2b5",
   "metadata": {},
   "outputs": [
    {
     "name": "stdout",
     "output_type": "stream",
     "text": [
      "The sum of all elements in the list is: 51\n"
     ]
    }
   ],
   "source": [
    "#Question No.10\n",
    "List1 = [1, 2, 4, 5, 10, 20, 4, 5]\n",
    "\n",
    "list_sum = sum(List1)\n",
    "\n",
    "print(\"The sum of all elements in the list is:\", list_sum)"
   ]
  },
  {
   "cell_type": "code",
   "execution_count": null,
   "id": "68c4d993",
   "metadata": {},
   "outputs": [],
   "source": []
  },
  {
   "cell_type": "code",
   "execution_count": null,
   "id": "45f7117c",
   "metadata": {},
   "outputs": [],
   "source": []
  },
  {
   "cell_type": "code",
   "execution_count": null,
   "id": "7449a0b6",
   "metadata": {},
   "outputs": [],
   "source": []
  },
  {
   "cell_type": "code",
   "execution_count": null,
   "id": "ee69a7a0",
   "metadata": {},
   "outputs": [],
   "source": []
  },
  {
   "cell_type": "code",
   "execution_count": null,
   "id": "c25121cd",
   "metadata": {},
   "outputs": [],
   "source": []
  },
  {
   "cell_type": "code",
   "execution_count": null,
   "id": "b1c9164e",
   "metadata": {},
   "outputs": [],
   "source": []
  }
 ],
 "metadata": {
  "kernelspec": {
   "display_name": "Python 3 (ipykernel)",
   "language": "python",
   "name": "python3"
  },
  "language_info": {
   "codemirror_mode": {
    "name": "ipython",
    "version": 3
   },
   "file_extension": ".py",
   "mimetype": "text/x-python",
   "name": "python",
   "nbconvert_exporter": "python",
   "pygments_lexer": "ipython3",
   "version": "3.11.4"
  }
 },
 "nbformat": 4,
 "nbformat_minor": 5
}
